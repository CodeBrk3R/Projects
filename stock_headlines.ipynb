{
  "nbformat": 4,
  "nbformat_minor": 0,
  "metadata": {
    "colab": {
      "name": "stock headlines",
      "provenance": [],
      "authorship_tag": "ABX9TyNBXJw8O2BsXHLB0CDBsoBn",
      "include_colab_link": true
    },
    "kernelspec": {
      "name": "python3",
      "display_name": "Python 3"
    },
    "language_info": {
      "name": "python"
    }
  },
  "cells": [
    {
      "cell_type": "markdown",
      "metadata": {
        "id": "view-in-github",
        "colab_type": "text"
      },
      "source": [
        "<a href=\"https://colab.research.google.com/github/CodeBrk3R/Webscraping/blob/master/stock_headlines.ipynb\" target=\"_parent\"><img src=\"https://colab.research.google.com/assets/colab-badge.svg\" alt=\"Open In Colab\"/></a>"
      ]
    },
    {
      "cell_type": "code",
      "metadata": {
        "colab": {
          "base_uri": "https://localhost:8080/",
          "height": 187
        },
        "id": "kwkyjOgFZlW-",
        "outputId": "1d4ebea9-fd9b-407f-f4d4-91d8fd0a7eba"
      },
      "source": [
        "import matplotlib.pyplot as plt\n",
        "import pandas as pd\n",
        "import requests\n",
        "from bs4 import BeautifulSoup as bs\n",
        "import datetime\n",
        "from datetime import date\n",
        "   \n",
        "pd.set_option('display.max_colwidth', -1)\n",
        " \n",
        "\n",
        "def get_headlines(selectedSTOCK):\n",
        "  today = date.today()   \n",
        "  params = {'User-Agent':'Mozilla/5.0 (Windows NT 10.0; Win64; x64) AppleWebKit/537.36 (KHTML, like Gecko) Chrome/81.0.4044.138 Safari/537.36','format':'xml'}\n",
        "  #setup soup\n",
        "  url = f\"https://finance.yahoo.com/quote/{selectedSTOCK}?p={selectedSTOCK}\"\n",
        "  resp = requests.get(url,params=params)\n",
        "  soup=bs(resp.content,'html.parser')\n",
        "  #setup link to search\n",
        "  yahooLINK=\"https://finance.yahoo.com\"\n",
        "  links=[]\n",
        "  headlines = soup.findAll(\"h3\",\"Mb(5px)\")\n",
        "  stock_headlines=[]\n",
        "  #scrape healines and links\n",
        "  for thing in headlines:\n",
        "      stock_headlines.append(thing.text)\n",
        "      link=thing.find(\"a\").get(\"href\")\n",
        "      #if str(link).endswith(\".html\"):\n",
        "      url_complete=f\"{yahooLINK}\"+link\n",
        "      links.append(url_complete)\n",
        "      #else:\n",
        "          links.append(thing.find(\"a\").get(\"href\"))    \n",
        "  stock_df = pd.DataFrame({\"headlines\":stock_headlines,\"links\":links})    \n",
        "  return stock_df\n",
        "\n",
        "\n",
        "selectedSTOCK = input(\"Enter a stock ticker\")\n",
        "get_headlines(selectedSTOCK)"
      ],
      "execution_count": null,
      "outputs": [
        {
          "output_type": "stream",
          "text": [
            "/usr/local/lib/python3.7/dist-packages/ipykernel_launcher.py:8: FutureWarning: Passing a negative integer is deprecated in version 1.0 and will not be supported in future version. Instead, use None to not limit the column width.\n",
            "  \n"
          ],
          "name": "stderr"
        },
        {
          "output_type": "stream",
          "text": [
            "Enter a stock tickeraapl\n"
          ],
          "name": "stdout"
        },
        {
          "output_type": "execute_result",
          "data": {
            "text/html": [
              "<div>\n",
              "<style scoped>\n",
              "    .dataframe tbody tr th:only-of-type {\n",
              "        vertical-align: middle;\n",
              "    }\n",
              "\n",
              "    .dataframe tbody tr th {\n",
              "        vertical-align: top;\n",
              "    }\n",
              "\n",
              "    .dataframe thead th {\n",
              "        text-align: right;\n",
              "    }\n",
              "</style>\n",
              "<table border=\"1\" class=\"dataframe\">\n",
              "  <thead>\n",
              "    <tr style=\"text-align: right;\">\n",
              "      <th></th>\n",
              "      <th>headlines</th>\n",
              "      <th>links</th>\n",
              "    </tr>\n",
              "  </thead>\n",
              "  <tbody>\n",
              "    <tr>\n",
              "      <th>0</th>\n",
              "      <td>What Facebook’s antitrust win means for big tech</td>\n",
              "      <td>https://finance.yahoo.com/video/facebook-antitrust-win-means-big-181230201.html</td>\n",
              "    </tr>\n",
              "    <tr>\n",
              "      <th>1</th>\n",
              "      <td>Apple Stock Shakes Off Growth, Antitrust Worries, Nears Buy Point</td>\n",
              "      <td>https://finance.yahoo.com/m/f847e703-52fd-3ac4-b430-f5e723818729/apple-stock-shakes-off.html</td>\n",
              "    </tr>\n",
              "    <tr>\n",
              "      <th>2</th>\n",
              "      <td>Facebook (FB) Unveils Newsletter Platform Bulletin for Writers</td>\n",
              "      <td>https://finance.yahoo.com/news/facebook-fb-unveils-newsletter-platform-135401663.html</td>\n",
              "    </tr>\n",
              "  </tbody>\n",
              "</table>\n",
              "</div>"
            ],
            "text/plain": [
              "                                                           headlines                                                                                         links\n",
              "0  What Facebook’s antitrust win means for big tech                   https://finance.yahoo.com/video/facebook-antitrust-win-means-big-181230201.html             \n",
              "1  Apple Stock Shakes Off Growth, Antitrust Worries, Nears Buy Point  https://finance.yahoo.com/m/f847e703-52fd-3ac4-b430-f5e723818729/apple-stock-shakes-off.html\n",
              "2  Facebook (FB) Unveils Newsletter Platform Bulletin for Writers     https://finance.yahoo.com/news/facebook-fb-unveils-newsletter-platform-135401663.html       "
            ]
          },
          "metadata": {
            "tags": []
          },
          "execution_count": 7
        }
      ]
    }
  ]
}