{
  "nbformat": 4,
  "nbformat_minor": 0,
  "metadata": {
    "colab": {
      "name": "sentiment analysis.ipynb",
      "provenance": [],
      "authorship_tag": "ABX9TyP67EE52pULW6LEv3sY8B+o",
      "include_colab_link": true
    },
    "kernelspec": {
      "name": "python3",
      "display_name": "Python 3"
    },
    "language_info": {
      "name": "python"
    }
  },
  "cells": [
    {
      "cell_type": "markdown",
      "metadata": {
        "id": "view-in-github",
        "colab_type": "text"
      },
      "source": [
        "<a href=\"https://colab.research.google.com/github/CodeBrk3R/Webscraping/blob/master/sentiment_analysis.ipynb\" target=\"_parent\"><img src=\"https://colab.research.google.com/assets/colab-badge.svg\" alt=\"Open In Colab\"/></a>"
      ]
    },
    {
      "cell_type": "markdown",
      "metadata": {
        "id": "7RN25MhbYgfX"
      },
      "source": [
        "#**Sentiment Analyzer (hit play)** New Section"
      ]
    },
    {
      "cell_type": "markdown",
      "metadata": {
        "id": "GDb9_bDEYuUh"
      },
      "source": [
        "-copy and paste news story text below and hit enter."
      ]
    },
    {
      "cell_type": "code",
      "metadata": {
        "colab": {
          "base_uri": "https://localhost:8080/"
        },
        "id": "Y904Dq47XpgU",
        "outputId": "c9e48073-213e-442b-e6ef-1d49455d2567"
      },
      "source": [
        "#@title\n",
        "!pip install vaderSentiment\n",
        "# import SentimentIntensityAnalyzer class \n",
        "# from vaderSentiment.vaderSentiment module. \n",
        "\n",
        "from vaderSentiment.vaderSentiment import SentimentIntensityAnalyzer \n",
        "  \n",
        "# function to print sentiments \n",
        "# of the sentence. \n",
        "def sentiment_scores(sentence): \n",
        "  \n",
        "    # Create a SentimentIntensityAnalyzer object. \n",
        "    sid_obj = SentimentIntensityAnalyzer() \n",
        "  \n",
        "    # polarity_scores method of SentimentIntensityAnalyzer \n",
        "    # oject gives a sentiment dictionary. \n",
        "    # which contains pos, neg, neu, and compound scores. \n",
        "    sentiment_dict = sid_obj.polarity_scores(sentence) \n",
        "      \n",
        "    print(\"Overall sentiment dictionary is : \", sentiment_dict) \n",
        "    print(\"sentence was rated as \", sentiment_dict['neg']*100, \"% Negative\") \n",
        "    print(\"sentence was rated as \", sentiment_dict['neu']*100, \"% Neutral\") \n",
        "    print(\"sentence was rated as \", sentiment_dict['pos']*100, \"% Positive\") \n",
        "  \n",
        "    print(\"Sentence Overall Rated As\", end = \" \") \n",
        "  \n",
        "    # decide sentiment as positive, negative and neutral \n",
        "    if sentiment_dict['compound'] >= 0.05 : \n",
        "        print(\"Positive\") \n",
        "  \n",
        "    elif sentiment_dict['compound'] <= - 0.05 : \n",
        "        print(\"Negative\") \n",
        "  \n",
        "    else : \n",
        "        print(\"Neutral\") \n",
        "\n",
        "    \n",
        "# Driver code \n",
        "while True:\n",
        "    if __name__ == \"__main__\" : \n",
        "        \n",
        "        sentence = input(\"what is the text?\\n\")\n",
        "        print(\"statement Analyzed:\") \n",
        "\n",
        "        # function calling \n",
        "        print(\"\\n\")\n",
        "        sentiment_scores(sentence) \n",
        "    \n",
        "        print(\"\\n\")\n",
        "        answer = input(\"analyze another statment? \")\n",
        "        if answer.lower() in(\"no\",\"n\"):\n",
        "            break\n",
        "\n",
        "        else:\n",
        "            continue\n",
        "        "
      ],
      "execution_count": null,
      "outputs": [
        {
          "output_type": "stream",
          "text": [
            "Collecting vaderSentiment\n",
            "\u001b[?25l  Downloading https://files.pythonhosted.org/packages/76/fc/310e16254683c1ed35eeb97386986d6c00bc29df17ce280aed64d55537e9/vaderSentiment-3.3.2-py2.py3-none-any.whl (125kB)\n",
            "\r\u001b[K     |██▋                             | 10kB 7.8MB/s eta 0:00:01\r\u001b[K     |█████▏                          | 20kB 8.4MB/s eta 0:00:01\r\u001b[K     |███████▉                        | 30kB 5.6MB/s eta 0:00:01\r\u001b[K     |██████████▍                     | 40kB 5.2MB/s eta 0:00:01\r\u001b[K     |█████████████                   | 51kB 2.7MB/s eta 0:00:01\r\u001b[K     |███████████████▋                | 61kB 3.1MB/s eta 0:00:01\r\u001b[K     |██████████████████▏             | 71kB 3.2MB/s eta 0:00:01\r\u001b[K     |████████████████████▉           | 81kB 3.4MB/s eta 0:00:01\r\u001b[K     |███████████████████████▍        | 92kB 3.7MB/s eta 0:00:01\r\u001b[K     |██████████████████████████      | 102kB 3.9MB/s eta 0:00:01\r\u001b[K     |████████████████████████████▋   | 112kB 3.9MB/s eta 0:00:01\r\u001b[K     |███████████████████████████████▏| 122kB 3.9MB/s eta 0:00:01\r\u001b[K     |████████████████████████████████| 133kB 3.9MB/s \n",
            "\u001b[?25hRequirement already satisfied: requests in /usr/local/lib/python3.7/dist-packages (from vaderSentiment) (2.23.0)\n",
            "Requirement already satisfied: certifi>=2017.4.17 in /usr/local/lib/python3.7/dist-packages (from requests->vaderSentiment) (2021.5.30)\n",
            "Requirement already satisfied: urllib3!=1.25.0,!=1.25.1,<1.26,>=1.21.1 in /usr/local/lib/python3.7/dist-packages (from requests->vaderSentiment) (1.24.3)\n",
            "Requirement already satisfied: chardet<4,>=3.0.2 in /usr/local/lib/python3.7/dist-packages (from requests->vaderSentiment) (3.0.4)\n",
            "Requirement already satisfied: idna<3,>=2.5 in /usr/local/lib/python3.7/dist-packages (from requests->vaderSentiment) (2.10)\n",
            "Installing collected packages: vaderSentiment\n",
            "Successfully installed vaderSentiment-3.3.2\n",
            "what is the text?\n",
            "Hong Kong (CNN Business)Didi is going public in the biggest US share offering by a Chinese company since Alibaba.  Stock in China's biggest ride-hailer is set to start trading Wednesday in New York, the company announced. Didi priced its shares at $14 apiece, raising $4.4 billion and making it the largest Chinese IPO in the United States since Alibaba's $25 billion offering in 2014, according to Dealogic. The deal values the company at more than $67 billion. Political and regulatory headaches Didi, which forced Uber out of mainland China five years ago, is listing on Wall Street at a delicate time. The company has attracted scrutiny from regulators in China, where the tech sector is undergoing a historic crackdown. In April, the ride-hailer was one of 34 companies summoned for a meeting with the State Administration for Market Regulation (SAMR), where executives were told to put an end to any anti-competitive behavior and ordered to carry out internal inspections. This month, Reuters reported that Didi was being investigated for antitrust concerns. According to the report, which cited anonymous sources, Didi was being probed by SAMR about whether it had \"used any competitive practices that squeezed out smaller rivals unfairly.\" Didi said in a statement at the time that it would \"not comment on unsubstantiated speculation from unnamed sources.\" SAMR did not respond to a request for comment from CNN Business. The company is also making a splash in New York amid significant US-China tensions. China tells its tech giants to heed &#39;warning&#39; in Alibaba&#39;s record fine China tells its tech giants to heed 'warning' in Alibaba's record fine While many major Chinese tech firms trade in the United States, including Alibaba (BABA) and JD.com (JD), the environment has gotten more volatile in recent years. Lately, a flurry of Chinese companies listed on Wall Street have held secondary offerings in Hong Kong so they can establish stronger roots closer to home, with some citing worsening regulatory hurdles in the United States. Some, like China Mobile and China Telecom, have been kicked off US exchanges altogether. Despite the tensions, 2020 still saw some $12 billion raised by Chinese companies from US listings, according to data provider Refinitiv. Almost $8 billion has been raised by Chinese firms so far in 2021, more than triple the amount reached at the same point last year. Didi is emblematic of both trends. Its upcoming debut will mark one of the top 10 US listings over the past decade, as well as the fourth-largest US IPO by a Chinese company on record, according to Dealogic. But in recent months, the company has also considered a dual listing in Hong Kong, according to a person familiar with the matter. A Chinese champion Didi is ubiquitous in China, boasting 377 million annual active users in the country alone. The company was founded in Beijing in 2012 by former Alibaba manager Cheng Wei, who created a cab service provider known as \"Didi Dache,\" which means taxi-hailing in Mandarin. Didi rapidly won the backing of heavyweights including Apple (AAPL), SoftBank (SFTBF) and Alibaba (BABA), while also fending off rivals. In 2015, it acquired its top local competitor, Kuaidi Dache, effectively knocking an opposing horse out of the race. The new combined company rebranded its flagship app to Didi Chuxing shortly afterward. Uber and Lyft drivers call for federal intervention in their gig worker labor fight Uber and Lyft drivers call for federal intervention in their gig worker labor fight In 2016, Didi also bought Uber's China business, ending the US firm's presence there. Former Uber CEO Travis Kalanick acknowledged Didi as \"a fierce competitor,\" and agreed to have the companies exchange stakes. (Didi exited its position in Uber (UBER) late last year. Uber retains a stake of about 12% in Didi.) Since then, Didi has ballooned to offer a whole suite of services, including ride-hailing, bike-sharing, taxi and carpooling services. The firm now bills itself as the world's largest mobility platform, with users in China and 15 other countries, including Brazil, Mexico and Russia. But it remains extremely reliant on its home market: More than 93% of its sales come from China. The company is looking to change that. In a Securities and Exchange Commission filing, Didi said it planned to use a third of the money it is raising to expand its footprint outside China. \"We aspire to become a truly global technology company,\" Will Wei Cheng and Jean Qing Liu, who serve as CEO and president, respectively, wrote in a letter to investors. Another third of the funding will be used to develop its technology in areas such as electric vehicles and autonomous driving. The rest will go toward coming up with new products or services, or other strategic investments. In their letter, Cheng and Liu said that the company was exploring new launches in areas such as \"intra-city freight, community group buying and food delivery.\" Self-driving robotaxis are taking off in China Self-driving robotaxis are taking off in China Like many startups, Didi has struggled to turn a profit for years, despite pulling in billions of dollars in revenue. It finally managed to turn that around this year, eking out roughly $800 million in net income for the quarter ended March. \"Didi is a terrific, founder-led, industry-leading innovator,\" Jim Breyer, founder and CEO of Breyer Capital, an investor, told CNN Business in an email. \"I have been privileged to observe their leadership since I first invested several years ago and look forward to their next chapter of growth.\" The company plans to list on the New York Stock Exchange under ticker symbol \"DIDI.\"\n",
            "statement Analyzed:\n",
            "\n",
            "\n",
            "Overall sentiment dictionary is :  {'neg': 0.019, 'neu': 0.891, 'pos': 0.09, 'compound': 0.9955}\n",
            "sentence was rated as  1.9 % Negative\n",
            "sentence was rated as  89.1 % Neutral\n",
            "sentence was rated as  9.0 % Positive\n",
            "Sentence Overall Rated As Positive\n",
            "\n",
            "\n",
            "analyze another statment? y\n",
            "what is the text?\n",
            "U.S. stock futures were flat Wednesday, one day after the S&P 500 and Nasdaq eked out record high closes, again. The Dow Jones Industrial Average, which gave up a gain of more than 100 points early Tuesday, finished slightly higher and remained about 1.4% away from its early May record close. The 10-year Treasury yield ticked lower Wednesday, trading around 1.46%, after better-than-expected ADP jobs data.  Going into the final day of June and the first half of the year, the S&P 500 was leading the major benchmarks with a 14.3% year-to-date gain. The Nasdaq was up 12.7% for the year. The Dow was up 12% in 2021, although it has lagged recently, tracking for a modestly monthly decline. The S&P 500 and Nasdaq advanced in June. All three benchmarks posted solid second quarter gains.  2. Bed Bath & Beyond earnings take a hit from turnaround costs Shoppers exit a Bed Bath & Beyond store in New York. Shoppers exit a Bed Bath & Beyond store in New York. Michael Nagle | Bloomberg | Getty Images Shares of Bed Bath & Beyond bounced around in Wednesday’s premarket after the retailer reported mixed fiscal first-quarter results. Sales topped estimates, but profits missed. Costs tied to the company’s turnaround efforts, including marketing expenses, hurt margins. The company raised its full-year revenue outlook ahead of the key back-to-school shopping season. Shares of Bed Bath & Beyond, which saw some strength earlier this month in the meme stock trade, were up 68% in 2021, as of Tuesday’s close.  3. Three companies are set to make their public debuts A logo of ride-hailing giant Didi Chuxing displayed on a building in Hangzhou in China's eastern Zhejiang province. A logo of ride-hailing giant Didi Chuxing displayed on a building in Hangzhou in China’s eastern Zhejiang province. STR | AFP | Getty Images Didi Global is set to begin trading Wednesday on the New York Stock Exchange after pricing its initial public offering at $14 per share and raising $4.4 billion. That gives the China-based ride-hailing company an initial valuation of about $73 billion.  Digital ad company Taboola is set to begin trading Wednesday on the Nasdaq following its merger with ION Acquisition Corp. 1, a special purpose acquisition corporation. The SPAC transaction will generate $526 million upon closing.  Clear, No. 19 on CNBC’s Disruptors 50 list this year, is set to begin trading Wednesday on the NYSE after pricing its initial public offering $31 per share and raising more than $400 million. Clear, known for its frequent fliers identification service, launched Health Pass during the Covid pandemic.  4. ADP issues strong June private-sector jobs report People walk by a Help Wanted sign People walk by a Help Wanted sign in the Queens borough of New York City on June 04, 2021 in New York City. Spencer Platt | Getty Images News | Getty Images ADP on Wednesday reported that jobs at U.S. companies grew by 692,000 in June. That easily beat estimates. However, the reading on private-sector positions in May, while still strong, was revised sharply lower to 886,000. During the Covid pandemic, the ADP report has not been a good indicator of what the government’s monthly employment report might show. Economists expect Friday’s jobs data to show that around 700,000 new nonfarm positions were created in June. The nation’s unemployment rate is expected to dip to 5.7%. Weekly jobless claims are out Thursday.  5. As housing boom begins to fizzle, mortgage demand falls A sign advertising home loan rates for purchase or refinancing at a Bank of America in New York. A sign advertising home loan rates for purchase or refinancing at a Bank of America in New York. Scott Mlyn | CNBC High home prices are finally starting to take some of the fizz out of the Covid-induced housing boom. Mortgage demand fell 6.9% for the week, according to the Mortgage Bankers Association. That’s the lowest level in almost a year and a half. Mortgage applications to purchase a home dropped 5% for the week and 17% annually. That’s the slowest pace since the start of May 2020, when lockdowns were in full force. Applications to refinance sank 8% for the week and 15% annually.\n",
            "statement Analyzed:\n",
            "\n",
            "\n",
            "Overall sentiment dictionary is :  {'neg': 0.039, 'neu': 0.883, 'pos': 0.078, 'compound': 0.98}\n",
            "sentence was rated as  3.9 % Negative\n",
            "sentence was rated as  88.3 % Neutral\n",
            "sentence was rated as  7.8 % Positive\n",
            "Sentence Overall Rated As Positive\n",
            "\n",
            "\n",
            "analyze another statment? y\n",
            "what is the text?\n",
            "Facebook antitrust lawsuit dismissed, becomes $1 trillion company Tue, June 29, 2021, 9:22 AM  SNAP +0.44%  AMZN +0.58%  FB -0.99%  TWTR -0.28% Myles Udland and Brian Sozzi discuss the ramifications of the dismissal of the U.S. government's antitrust lawsuit against Facebook after a federal judge ruled insufficient allegations that support the claim of Facebook being a monopoly.  Video Transcript MYLES UDLAND: But we begin this morning with the latest on that news from Facebook. A district court judge in Washington dismissed a lawsuit filed against Facebook by the FTC and most states' attorney's general that alleged the company engaged in monopolistic practices by buying up rivals. Of course, notably, the acquisition of Instagram and then WhatsApp.  This news crossed later yesterday afternoon. It sent shares to a record high. Put Facebook's market cap north of a trillion dollars. Made Mark Zuckerberg worth more than $130 billion, exceeding the fortunes of Warren Buffett, among pretty much everybody else on planet Earth, save for five or six people.  But if we-- going to take a look at this news, Sozzi. We see here, you know, congrats to all these guys. And we think about the news for Facebook, and really the way the market received this news.  I think a lot of investors, unless you are following Facebook closely, were not really thinking too much about the legal proceedings against Facebook as there are legal proceedings against Facebook and Amazon, or rumblings of them, almost nonstop, it seems, at this point. But essentially the big win for Facebook here, and also the risk for Facebook, but we'll start with the real win for Facebook, is that the way the lawsuit was crafted and the argument that Facebook's acquisition of its two rivals was uncompetitive within Facebook's market, the market of operating social media companies, was just deemed not a sufficient definition by the judge.  And so, I think the real challenge here for lawmakers, and we've talked about this for the last several years as it's gotten more prominent in the air, is how are you going to-- by what statute are you going to penalize Facebook and Amazon simply for being very big companies? The fact that they are big companies does not necessarily mean they are anti-competitive or monopolistic companies. It may feel that way, but legally, arguing that in court, you can't just say, well, it feels that way to me. That's not a real legal argument. And of course, that's not really what the FTC argued, but the judge essentially said, you need to narrow how exactly you want to penalize Facebook here.  BRIAN SOZZI: Myles, maybe you and I will someday be on that billionaires list. Maybe a year from now. Who the heck knows.  But you know, I think the market read is this, and it is actually pretty simple to decode. Facebook shares are the top trending ticker on the Yahoo Finance platform right now. They have been pretty much ever since this decision hit the wires.  Read number one is that Facebook is not going to have to pay out another fine, at least for now, to the FTC as similar to what it did to the Cambridge Analytica debacle in the summer of 2019. That fine was $5 billion. So, the market's read here is, billions of dollars get to stay on the Facebook balance sheet, which brings me to point number two, Myles, and I'm curious to get your thought on this too.  So, Facebook is not now, or for right now, not going to have to be broken up. It can continue to make money off of WhatsApp, Instagram, and of course, its own namesake platform. Now that it can keep those billions on the balance sheet and the government is not going to attack it, who is to say that Facebook can't go out and buy another company? Will it do so overnight? Not saying that, but at least I think the door is a lot more open to Facebook going out and maybe acquiring something else now. That door is more open today than it was at the start of this week.  MYLES UDLAND: Yeah, they certainly could do that. Now, to that point, though, Sozzi, in the ruling issued by the judge yesterday, it outlined that the states themselves likely don't have grounds to challenge Facebook's old acquisitions, but that the FTC, the federal government, could indeed challenge both the acquisition of Instagram and WhatsApp. And so, I still think there is an opportunity. Not, I still think.  There clearly legally is still a route for the government to challenge past acquisitions for Facebook. And so, it's not as if there has been an indefinite stamp, well, there's been an indefinite, but not a forever binding stamp of approval on those acquisitions, given yesterday's ruling.  And so, I think, to your question, I'm not sure if Facebook right now has a lot of appetite for going to add a big company. And look, the solution here for Facebook were it-- were it to deem this the-- or were it to deem any kind of proceeding as an inevitable forced breakup, maybe they would preemptively look to spin-off one of these units, and obviously, get to keep a majority stake, and reap the benefits, so on and so forth. I don't really think any of that is imminent at this point. And I think the market's judgment on the ruling, or on the decision in the statement yesterday, the market's judgment is that Facebook gets to, for some period of time, several years at the very least, operate within its current structure.  And so, there is a little bit of a premium added to today's structure for the Facebook group at large, in terms of how much earnings power they are going to have as a collective. And so, I'm not sure-- I'm not sure the strategy move here, Sozz, is to go buy another company. I don't think Facebook calls Evan Spiegel and says, hey, how about now? That's never going to happen, really, but--  BRIAN SOZZI: Not going to happen today.  [LAUGHTER]  MYLES UDLAND: I don't see that happening. But certainly, I think there's-- there's going to be additional challenges, it would seem clear, to Facebook and others. But really the question with this, with Facebook and with Amazon, is about redefining, or more tightly defining, how we want to hold big companies accountable, because the consumer benefits standard really doesn't do anything but affirm and entrench Facebook and Amazon's power. They've been an incredible benefit to consumers, and of course, to businesses as well.  But if the standard is have you penalized consumers, very difficult, I think, to build a case on either of those grounds, at the current moment, with the current laws in play, you know, again, to penalize those companies. So, a very long road ahead, I think, for these businesses, the legal challenge. It's an interesting period of their business life certainly ahead, but the market deeming yesterday's ruling as at least an incremental medium term positive for Facebook. And again, pushing that company's value north of $1 trillion. And it joins Microsoft, Apple, and Amazon, so does Alphabet, in that category.\n",
            "statement Analyzed:\n",
            "\n",
            "\n",
            "Overall sentiment dictionary is :  {'neg': 0.036, 'neu': 0.845, 'pos': 0.119, 'compound': 0.9986}\n",
            "sentence was rated as  3.5999999999999996 % Negative\n",
            "sentence was rated as  84.5 % Neutral\n",
            "sentence was rated as  11.899999999999999 % Positive\n",
            "Sentence Overall Rated As Positive\n",
            "\n",
            "\n",
            "analyze another statment? n\n"
          ],
          "name": "stdout"
        }
      ]
    }
  ]
}